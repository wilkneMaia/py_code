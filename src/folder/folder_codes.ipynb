{
 "cells": [
  {
   "cell_type": "code",
   "execution_count": null,
   "id": "14c81854",
   "metadata": {},
   "outputs": [],
   "source": [
    "import logging\n",
    "from pathlib import Path\n",
    "import shutil\n",
    "from datetime import datetime\n",
    "\n",
    "# Use absolute path or ensure directory creation before logging config | Use caminho absoluto ou garanta a criação do diretório antes da configuração do log\n",
    "LOG_DIR = Path(\"../logging\")\n",
    "LOG_DIR.mkdir(parents=True, exist_ok=True)\n",
    "\n",
    "LOG_FILE = LOG_DIR / \"folder.log\"\n",
    "\n",
    "# Configure logging to write to a file | Confira o arquivo de log\n",
    "logging.basicConfig(\n",
    "    filename=LOG_FILE,\n",
    "    level=logging.INFO,\n",
    "    format=\"%(asctime)s %(levelname)s: %(message)s\",\n",
    "    force=True  # ensures the config overrides existing handlers\n",
    ")"
   ]
  },
  {
   "cell_type": "code",
   "execution_count": null,
   "id": "b44332f2",
   "metadata": {},
   "outputs": [
    {
     "name": "stdout",
     "output_type": "stream",
     "text": [
      "Folder ensured at: /Users/wilkne/Development/py_code/src/folder/temp_folder\n"
     ]
    }
   ],
   "source": [
    "# Function to ensure folder exists and log the action | Função para garantir que a pasta exista e registrar a ação\n",
    "\n",
    "def ensure_folder(path):\n",
    "    import os\n",
    "    from pathlib import Path\n",
    "    try:\n",
    "        Path(path).mkdir(parents=True, exist_ok=True)\n",
    "        logging.info(f\"Folder ensured at: {path}\")\n",
    "    except Exception as e:\n",
    "        logging.error(f\"Failed to ensure folder at {path}: {e}\")\n",
    "        raise\n",
    "\n",
    "if __name__ == \"__main__\":\n",
    "    folder_path = Path(\"../folder/temp_folder\")\n",
    "    ensure_folder(folder_path)\n",
    "    print(f\"Folder ensured at: {folder_path.resolve()}\")\n",
    "\n",
    "    # Test log output\n",
    "    logging.info(\"Test log entry after folder ensured.\")\n"
   ]
  },
  {
   "cell_type": "code",
   "execution_count": null,
   "id": "50c1036b",
   "metadata": {},
   "outputs": [
    {
     "name": "stdout",
     "output_type": "stream",
     "text": [
      "Is folder /Users/wilkne/Development/py_code/src/folder/empty_check empty? False\n"
     ]
    }
   ],
   "source": [
    "# Function to check if a folder is empty | Função para verificar se uma pasta está vazia\n",
    "\n",
    "def is_folder_empty(path):\n",
    "    path = Path(path)\n",
    "    return not any(path.iterdir())\n",
    "\n",
    "# Example usage of is_folder_empty | Exemplo de uso de is_folder_empty\n",
    "if __name__ == \"__main__\":\n",
    "    empty_check_path = Path(\"../folder/empty_check\")\n",
    "    ensure_folder(empty_check_path)\n",
    "\n",
    "    print(f\"Is folder {empty_check_path.resolve()} empty? {is_folder_empty(empty_check_path)}\")\n",
    "    logging.info(f\"Checked if folder {empty_check_path} is empty: {is_folder_empty(empty_check_path)}\")"
   ]
  },
  {
   "cell_type": "code",
   "execution_count": 22,
   "id": "60866b53",
   "metadata": {},
   "outputs": [
    {
     "name": "stdout",
     "output_type": "stream",
     "text": [
      "Files: 1, Folders: 1 in /Users/wilkne/Development/py_code/src/folder\n"
     ]
    }
   ],
   "source": [
    "# Function to count files and folders in a directory | Função para contar arquivos e pastas em um diretório\n",
    "\n",
    "def count_files_and_folders(path):\n",
    "    path = Path(path)\n",
    "    files = sum(1 for f in path.rglob('*') if f.is_file())\n",
    "    folders = sum(1 for d in path.rglob('*') if d.is_dir())\n",
    "    return files, folders\n",
    "\n",
    "# Example usage of count_files_and_folders | Exemplo de uso de count_files_and_folders\n",
    "if __name__ == \"__main__\":\n",
    "    count_path = Path(\"../folder\")\n",
    "    ensure_folder(count_path)\n",
    "    files, folders = count_files_and_folders(count_path)\n",
    "\n",
    "    print(f\"Files: {files}, Folders: {folders} in {count_path.resolve()}\")\n",
    "    logging.info(f\"Counted {files} files and {folders} folders in {count_path}\")"
   ]
  },
  {
   "cell_type": "code",
   "execution_count": 27,
   "id": "a6f7eaed",
   "metadata": {},
   "outputs": [
    {
     "name": "stdout",
     "output_type": "stream",
     "text": [
      "Files with extension 'py': [PosixPath('../main.py')]\n"
     ]
    }
   ],
   "source": [
    "# Function to list files by extension in a directory | Função para listar arquivos por extensão em um diretório\n",
    "\n",
    "def list_files_by_extension(path, extension):\n",
    "    path = Path(path)\n",
    "    return list(path.rglob(f'*.{extension}'))\n",
    "\n",
    "# Example usage of list_files_by_extension | Exemplo de uso de list_files_by_extension\n",
    "if __name__ == \"__main__\":\n",
    "    extension = \"py\"\n",
    "    count_path = Path(\"../\")\n",
    "    files_with_extension = list_files_by_extension(count_path, extension)\n",
    "\n",
    "    print(f\"Files with extension '{extension}': {files_with_extension}\")\n",
    "    logging.info(f\"Listed files with extension '{extension}' in {count_path}: {files_with_extension}\")"
   ]
  },
  {
   "cell_type": "code",
   "execution_count": 30,
   "id": "5250aa26",
   "metadata": {},
   "outputs": [
    {
     "name": "stdout",
     "output_type": "stream",
     "text": [
      "Copied folder from /Users/wilkne/Development/py_code/src/folder/temp_folder to /Users/wilkne/Development/py_code/src/folder/copied_folder\n"
     ]
    }
   ],
   "source": [
    "# Function to remove a folder and its contents | Função para remover uma pasta e seu conteúdo\n",
    "\n",
    "def copy_folder(src, dst):\n",
    "    src = Path(src)\n",
    "    dst = Path(dst)\n",
    "    if src.exists() and src.is_dir():\n",
    "        shutil.copytree(src, dst, dirs_exist_ok=True)\n",
    "\n",
    "# Example usage of copy_folder | Exemplo de uso de copy_folder\n",
    "if __name__ == \"__main__\":\n",
    "    src_path = Path(\"../folder/temp_folder\")\n",
    "    dst_path = Path(\"../folder/copied_folder\")\n",
    "    ensure_folder(src_path)\n",
    "    copy_folder(src_path, dst_path)\n",
    "\n",
    "    print(f\"Copied folder from {src_path.resolve()} to {dst_path.resolve()}\")\n",
    "    logging.info(f\"Copied folder from {src_path} to {dst_path}\")"
   ]
  },
  {
   "cell_type": "code",
   "execution_count": 31,
   "id": "638c9176",
   "metadata": {},
   "outputs": [
    {
     "name": "stdout",
     "output_type": "stream",
     "text": [
      "Moved folder from /Users/wilkne/Development/py_code/src/folder/temp_folder to /Users/wilkne/Development/py_code/src/folder/moved_folder\n"
     ]
    }
   ],
   "source": [
    "# Function to remove a folder and its contents | Função para remover uma pasta e seu conteúdo\n",
    "\n",
    "def move_folder(src, dst):\n",
    "    src = Path(src)\n",
    "    dst = Path(dst)\n",
    "    if src.exists() and src.is_dir():\n",
    "        shutil.move(str(src), str(dst))\n",
    "\n",
    "\n",
    "# Example usage of move_folder | Exemplo de uso de move_folder\n",
    "if __name__ == \"__main__\":\n",
    "    src_path = Path(\"../folder/temp_folder\")\n",
    "    dst_path = Path(\"../folder/moved_folder\")\n",
    "    ensure_folder(src_path)\n",
    "    move_folder(src_path, dst_path)\n",
    "\n",
    "    print(f\"Moved folder from {src_path.resolve()} to {dst_path.resolve()}\")\n",
    "    logging.info(f\"Moved folder from {src_path} to {dst_path}\")"
   ]
  },
  {
   "cell_type": "code",
   "execution_count": 32,
   "id": "b191b3af",
   "metadata": {},
   "outputs": [
    {
     "name": "stdout",
     "output_type": "stream",
     "text": [
      "Size of folder /Users/wilkne/Development/py_code/src/folder: 10083 bytes\n"
     ]
    }
   ],
   "source": [
    "# Function to get the size of a folder | Função para obter o tamanho de uma pasta\n",
    "\n",
    "def get_folder_size(path):\n",
    "    path = Path(path)\n",
    "    total_size = sum(f.stat().st_size for f in path.rglob('*') if f.is_file())\n",
    "    return total_size  # retorna em bytes\n",
    "\n",
    "# Example usage of get_folder_size | Exemplo de uso de get_folder_size\n",
    "if __name__ == \"__main__\":\n",
    "    size_path = Path(\"../folder\")\n",
    "    ensure_folder(size_path)\n",
    "    folder_size = get_folder_size(size_path)\n",
    "\n",
    "    print(f\"Size of folder {size_path.resolve()}: {folder_size} bytes\")\n",
    "    logging.info(f\"Size of folder {size_path}: {folder_size} bytes\")"
   ]
  },
  {
   "cell_type": "code",
   "execution_count": 34,
   "id": "28a6bdbf",
   "metadata": {},
   "outputs": [
    {
     "name": "stdout",
     "output_type": "stream",
     "text": [
      "Created timestamped folder: /Users/wilkne/Development/py_code/src/folder/backup_20250809_112322\n"
     ]
    }
   ],
   "source": [
    "# Function to create a timestamped folder | Função para criar uma pasta com timestamp\n",
    "\n",
    "def create_timestamped_folder(base_path, prefix='backup_'):\n",
    "    timestamp = datetime.now().strftime('%Y%m%d_%H%M%S')\n",
    "    folder_name = f\"{prefix}{timestamp}\"\n",
    "    folder_path = Path(base_path) / folder_name\n",
    "    folder_path.mkdir(parents=True, exist_ok=False)\n",
    "    return folder_path\n",
    "\n",
    "# Example usage of create_timestamped_folder | Exemplo de uso de create_timestamped_folder\n",
    "if __name__ == \"__main__\":\n",
    "    base_path = Path(\"../folder\")\n",
    "    ensure_folder(base_path)\n",
    "    timestamped_folder = create_timestamped_folder(base_path)\n",
    "\n",
    "    print(f\"Created timestamped folder: {timestamped_folder.resolve()}\")\n",
    "    logging.info(f\"Created timestamped folder: {timestamped_folder}\")\n"
   ]
  },
  {
   "cell_type": "code",
   "execution_count": 29,
   "id": "23eab429",
   "metadata": {},
   "outputs": [
    {
     "name": "stdout",
     "output_type": "stream",
     "text": [
      "Removed folder: /Users/wilkne/Development/py_code/src/folder/temp_folder_to_remove\n"
     ]
    }
   ],
   "source": [
    "# Function to remove a folder and its contents | Função para remover uma pasta e seu conteúdo\n",
    "\n",
    "def remove_folder(path):\n",
    "    path = Path(path)\n",
    "    if path.exists() and path.is_dir():\n",
    "        shutil.rmtree(path)\n",
    "\n",
    "# Example usage of remove_folder | Exemplo de uso de remove_folder\n",
    "if __name__ == \"__main__\":\n",
    "    remove_path = Path(\"../folder/temp_folder_to_remove\")\n",
    "    ensure_folder(remove_path)\n",
    "    remove_folder(remove_path)\n",
    "\n",
    "    print(f\"Removed folder: {remove_path.resolve()}\")\n",
    "    logging.info(f\"Removed folder at: {remove_path}\")"
   ]
  }
 ],
 "metadata": {
  "kernelspec": {
   "display_name": "py-code (3.12.11)",
   "language": "python",
   "name": "python3"
  },
  "language_info": {
   "codemirror_mode": {
    "name": "ipython",
    "version": 3
   },
   "file_extension": ".py",
   "mimetype": "text/x-python",
   "name": "python",
   "nbconvert_exporter": "python",
   "pygments_lexer": "ipython3",
   "version": "3.12.11"
  }
 },
 "nbformat": 4,
 "nbformat_minor": 5
}
